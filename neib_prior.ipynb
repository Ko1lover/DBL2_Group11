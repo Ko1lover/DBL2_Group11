{
 "cells": [
  {
   "attachments": {},
   "cell_type": "markdown",
   "metadata": {},
   "source": [
    "### Importing necessary libraries"
   ]
  },
  {
   "cell_type": "code",
   "execution_count": null,
   "metadata": {},
   "outputs": [],
   "source": [
    "import pandas as pd\n",
    "import geopandas\n",
    "import json\n",
    "import requests\n",
    "from shapely.geometry import Polygon\n",
    "from tqdm.notebook import tqdm\n",
    "from datetime import datetime, timedelta\n",
    "import plotly.express as px\n",
    "import pickle"
   ]
  },
  {
   "attachments": {},
   "cell_type": "markdown",
   "metadata": {},
   "source": [
    "### reading geojson file to get boundaries of the boroughs and its neighbourhoods"
   ]
  },
  {
   "cell_type": "code",
   "execution_count": null,
   "metadata": {},
   "outputs": [],
   "source": [
    "# Load the variable from the file\n",
    "with open('path_variable.pkl', 'rb') as f:\n",
    "    path_variable = pickle.load(f)\n",
    "\n",
    "# if this doesn't work just manually give the path the same value as you gave at retrieving_data.ipynb file\n",
    "# change the PATH to the location of your folder where you store the geojson file\n",
    "# PATH = '/Users/ansat.omurzakov/Desktop/TUe/Data Challenge 2/data/'\n",
    "PATH = path_variable.as_posix()"
   ]
  },
  {
   "cell_type": "code",
   "execution_count": null,
   "metadata": {},
   "outputs": [],
   "source": [
    "with open(PATH + '/neighborhood_boundaries.json', 'r') as file:\n",
    "    json_data = json.load(file)\n",
    "\n",
    "# Convert JSON data to a DataFrame\n",
    "boroughs_data = []\n",
    "for borough, area_codes in json_data.items():\n",
    "    for lst in area_codes:\n",
    "        for neighbourhood, polygon in lst.items():\n",
    "            boroughs_data.append({'borough': borough, 'neighbourhood': neighbourhood, 'polygon': polygon})\n",
    "\n",
    "boroughs_neighbours = pd.DataFrame(boroughs_data)\n",
    "boroughs_neighbours['polygon'] = boroughs_neighbours['polygon'].apply(lambda x: Polygon(x))\n",
    "boroughs_neighbours"
   ]
  },
  {
   "cell_type": "code",
   "execution_count": null,
   "metadata": {},
   "outputs": [],
   "source": [
    "boroughs_neighbours.groupby('borough')['neighbourhood'].count()"
   ]
  },
  {
   "attachments": {},
   "cell_type": "markdown",
   "metadata": {},
   "source": [
    "# What do i want to know?\n",
    "- Does MPS respond to the troubles issued by citizens in boroughs\n",
    "- How quickly they do that\n",
    "\n",
    "# What can i do with this data?\n",
    "- Address boroughs where police does a poor job (either doesn't do anything, or took too much time to address issue)"
   ]
  },
  {
   "attachments": {},
   "cell_type": "markdown",
   "metadata": {},
   "source": [
    "### Going through all of the boroughs and its neighbourhoods in order to retrieve the number of unresolved cases and find the percentage of them from total cases"
   ]
  },
  {
   "cell_type": "code",
   "execution_count": null,
   "metadata": {},
   "outputs": [],
   "source": [
    "dic = {}\n",
    "date_format = \"%Y-%m-%dT%H:%M:%S\"\n",
    "count = 1\n",
    "for borough in boroughs_neighbours['borough'].unique():\n",
    "\n",
    "    print(f'{count}. Processing {borough} borough')\n",
    "    total_borough_cases = 0\n",
    "    unresolved_borough_cases = 0\n",
    "    time_borough = timedelta()\n",
    "    for neighbourhood in boroughs_neighbours[boroughs_neighbours['borough'] == borough]['neighbourhood'].unique():\n",
    "        response = requests.get(f'https://data.police.uk/api/metropolitan/{neighbourhood}/priorities').json()\n",
    "        total_borough_cases += len(response)\n",
    "        for action in response:\n",
    "            if action['action'] == None or action['action-date'] == None:\n",
    "                unresolved_borough_cases += 1\n",
    "            elif action['action'] != None and action['action-date'] != None:\n",
    "                time_borough += datetime.strptime(action['action-date'], date_format) - datetime.strptime(action['issue-date'], date_format)\n",
    "    dic[borough] = (total_borough_cases, unresolved_borough_cases, time_borough/total_borough_cases)\n",
    "    count += 1"
   ]
  },
  {
   "attachments": {},
   "cell_type": "markdown",
   "metadata": {},
   "source": [
    "### Getting the dataset showing the Average resolution time of issues as well as percentage of unresolved cases"
   ]
  },
  {
   "cell_type": "code",
   "execution_count": null,
   "metadata": {},
   "outputs": [],
   "source": [
    "borough_data = dict(dic)\n",
    "\n",
    "# Optionally, convert to DataFrame for better visualization and manipulation\n",
    "borough_df = pd.DataFrame.from_dict(borough_data, orient='index', columns=['Total Cases', 'Unresolved Cases', 'Average Resolution Time'])\n",
    "\n",
    "# Count the percentage of unresolved\n",
    "borough_df['uc_proportion'] = round(borough_df['Unresolved Cases']/borough_df['Total Cases'] *100,2)\n",
    "\n",
    "borough_df = borough_df.sort_values(by = 'uc_proportion', ascending=False).reset_index()\n",
    "borough_df"
   ]
  },
  {
   "cell_type": "code",
   "execution_count": null,
   "metadata": {},
   "outputs": [],
   "source": [
    "fig = px.bar(borough_df.sort_values(by = 'uc_proportion', ascending=False).reset_index(), x = 'index', y = 'uc_proportion', title = 'Percentage of unresolved cases per borough')\n",
    "\n",
    "fig.add_hline(y=40, line_width=2, line_dash=\"dash\", line_color=\"black\")\n",
    "fig.update_layout(\n",
    "    xaxis_title=\"Borough name\", \n",
    "    yaxis_title=\"Percentage \"\n",
    ")\n",
    "fig.show()"
   ]
  },
  {
   "attachments": {},
   "cell_type": "markdown",
   "metadata": {},
   "source": [
    "### Retrieving number of unresolved cases from each neighbourhood"
   ]
  },
  {
   "cell_type": "code",
   "execution_count": null,
   "metadata": {},
   "outputs": [],
   "source": [
    "cop = boroughs_neighbours\n",
    "dic2 = {}\n",
    "for borough in cop['borough'].unique():\n",
    "    print(f'Doing {borough} borough')\n",
    "    for neighbourhood in cop[cop['borough'] == borough]['neighbourhood'].unique():\n",
    "        total_cases_neib = 0\n",
    "        unres_cases_neib = 0\n",
    "        response = requests.get(f'https://data.police.uk/api/metropolitan/{neighbourhood}/priorities').json()\n",
    "        total_cases_neib += len(response)\n",
    "        for action in response:\n",
    "            if action['action'] == None or action['action-date'] == None:\n",
    "                unres_cases_neib += 1\n",
    "        dic2[neighbourhood] = (borough, total_cases_neib, unres_cases_neib)"
   ]
  },
  {
   "attachments": {},
   "cell_type": "markdown",
   "metadata": {},
   "source": [
    "### Retrieving infomation on amount of neighbourhoods and percentage of unresolved cases in top 5 best performing and worst performing boroughs\n",
    "- The less the number of uc_proportion the better"
   ]
  },
  {
   "cell_type": "code",
   "execution_count": null,
   "metadata": {},
   "outputs": [],
   "source": [
    "# Optionally, convert to DataFrame for better visualization and manipulation\n",
    "neib_df = pd.DataFrame.from_dict(dic2, orient='index', columns=['borough', 'total cases','Unresolved Cases'])\n",
    "\n",
    "# Count the percentage of unresolved\n",
    "neib_df['uc_proportion'] = round(neib_df['Unresolved Cases']/neib_df['total cases'] *100,2)"
   ]
  },
  {
   "cell_type": "code",
   "execution_count": null,
   "metadata": {},
   "outputs": [],
   "source": [
    "neib_df = neib_df.reset_index()"
   ]
  },
  {
   "cell_type": "code",
   "execution_count": null,
   "metadata": {},
   "outputs": [],
   "source": [
    "good = ['Merton',\n",
    " 'Kingston upon Thames',\n",
    " 'Hackney',\n",
    " 'Wandsworth',\n",
    " 'Richmond upon Thames']\n",
    "\n",
    "bad = ['Kensington and Chelsea',\n",
    " 'Hammersmith and Fulham',\n",
    " 'Sutton',\n",
    " 'Hounslow',\n",
    " 'Camden']"
   ]
  },
  {
   "cell_type": "code",
   "execution_count": null,
   "metadata": {},
   "outputs": [],
   "source": [
    "good_df = neib_df[neib_df['borough'].isin(good)]\n",
    "# good_df[['borough', 'total cases', 'Unresolved Cases', 'uc_proportion']].groupby('borough').sum().merge(good_df[['borough', 'index']].groupby('borough').count(), on = 'borough')\n",
    "smth1 = good_df[['borough', 'total cases', 'Unresolved Cases']].groupby('borough').sum().merge(good_df[['borough', 'uc_proportion']].groupby('borough').mean(), on = 'borough')\n",
    "good = smth1.merge(good_df[['borough', 'index']].groupby('borough').count(), on = 'borough')\n",
    "good"
   ]
  },
  {
   "cell_type": "code",
   "execution_count": null,
   "metadata": {},
   "outputs": [],
   "source": [
    "bad_df = neib_df[neib_df['borough'].isin(bad)]\n",
    "smth2 = bad_df[['borough', 'total cases', 'Unresolved Cases']].groupby('borough').sum().merge(bad_df[['borough', 'uc_proportion']].groupby('borough').mean(), on = 'borough')\n",
    "bad = smth2.merge(bad_df[['borough', 'index']].groupby('borough').count(), on = 'borough')\n",
    "bad['uc_proportion2'] = bad['uc_proportion'].apply(lambda x: round(x, 2))\n",
    "bad"
   ]
  }
 ],
 "metadata": {
  "kernelspec": {
   "display_name": "Python 3",
   "language": "python",
   "name": "python3"
  },
  "language_info": {
   "codemirror_mode": {
    "name": "ipython",
    "version": 3
   },
   "file_extension": ".py",
   "mimetype": "text/x-python",
   "name": "python",
   "nbconvert_exporter": "python",
   "pygments_lexer": "ipython3",
   "version": "3.12.0"
  },
  "orig_nbformat": 4
 },
 "nbformat": 4,
 "nbformat_minor": 2
}
