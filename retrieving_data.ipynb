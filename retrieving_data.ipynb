{
 "cells": [
  {
   "cell_type": "code",
   "execution_count": 10,
   "metadata": {},
   "outputs": [],
   "source": [
    "import pandas as pd\n",
    "import re\n",
    "from tqdm.notebook import tqdm\n",
    "import os"
   ]
  },
  {
   "cell_type": "code",
   "execution_count": 39,
   "metadata": {},
   "outputs": [],
   "source": [
    "PATH = '/Users/ansat.omurzakov/Desktop/TUe/Data Challenge 2/data/'\n",
    "PATH_to_neighbors = '/Users/ansat.omurzakov/Desktop/TUe/Data Challenge 2/neighbourhood/'"
   ]
  },
  {
   "cell_type": "code",
   "execution_count": 131,
   "metadata": {},
   "outputs": [],
   "source": [
    "def delete_files(PATH):\n",
    "    # getting dates from the CSV file\n",
    "    dates_list = os.listdir(PATH)\n",
    "    for date in dates_list:\n",
    "        if not re.match(r'\\d{4}-\\d{2}', date):\n",
    "            dates_list.remove(date)\n",
    "\n",
    "    dates_list = sorted(dates_list)\n",
    "\n",
    "    # deleting irrelevant files from directories\n",
    "    for date in tqdm(dates_list, total = len(dates_list)):\n",
    "        for file in os.listdir(PATH + date):\n",
    "            if not re.search(r'(btp)|(metropolitan)', file):\n",
    "                os.remove(PATH + '/' + date + '/' + file)\n",
    "    return 'Done!'\n",
    "\n",
    "def save_data(category, PATH):\n",
    "    if len(category) != 0:\n",
    "        all_data = pd.DataFrame()\n",
    "        for f in tqdm(category, total = len(category)):\n",
    "            df = pd.read_csv(PATH + f[:7] + '/' + f)\n",
    "            all_data = pd.concat([all_data,df],ignore_index=True)\n",
    "        all_data.to_csv(PATH + re.split(r'(\\d{2}-)', category[0])[-1], index=False)\n",
    "    else: return f'List {category} is empty'\n",
    "\n",
    "def get_file_list(department, type, PATH):\n",
    "    lst = []\n",
    "    for _, _, files in os.walk(PATH, topdown = True):\n",
    "        for filename in files:\n",
    "            if f'{department}-{type}' in filename:\n",
    "                lst.append(filename)\n",
    "    return lst"
   ]
  },
  {
   "attachments": {},
   "cell_type": "markdown",
   "metadata": {},
   "source": [
    "## Deleting irrelevant files from directories (neighborhood, data)"
   ]
  },
  {
   "cell_type": "code",
   "execution_count": null,
   "metadata": {},
   "outputs": [],
   "source": [
    "delete_files(PATH)\n",
    "delete_files(PATH_to_neighbors)"
   ]
  },
  {
   "attachments": {},
   "cell_type": "markdown",
   "metadata": {},
   "source": [
    "## Getting file names from which to retrieve csvs"
   ]
  },
  {
   "cell_type": "code",
   "execution_count": 129,
   "metadata": {},
   "outputs": [],
   "source": [
    "# Metropolitan_files\n",
    "metropolitan_street = get_file_list('metropolitan','street', PATH)\n",
    "metropolitan_outcomes= get_file_list('metropolitan','outcomes', PATH)\n",
    "metropolitan_sas= get_file_list('metropolitan','stop-and-search', PATH)\n",
    "metropolitan_neighborhood= get_file_list('metropolitan','neighbourhood', PATH_to_neighbors)\n",
    "\n",
    "# BTP files\n",
    "btp_street = get_file_list('btp','street', PATH)\n",
    "btp_outcomes= get_file_list('btp','outcomes', PATH)\n",
    "btp_sas= get_file_list('btp','stop-and-search', PATH)"
   ]
  },
  {
   "cell_type": "code",
   "execution_count": null,
   "metadata": {},
   "outputs": [],
   "source": []
  },
  {
   "attachments": {},
   "cell_type": "markdown",
   "metadata": {},
   "source": [
    "## Concatenating files per category and saving them into one csv file"
   ]
  },
  {
   "cell_type": "code",
   "execution_count": 130,
   "metadata": {},
   "outputs": [
    {
     "data": {
      "application/vnd.jupyter.widget-view+json": {
       "model_id": "29ec5392ca96467bbf7372c32e3af2ca",
       "version_major": 2,
       "version_minor": 0
      },
      "text/plain": [
       "  0%|          | 0/30 [00:00<?, ?it/s]"
      ]
     },
     "metadata": {},
     "output_type": "display_data"
    },
    {
     "data": {
      "application/vnd.jupyter.widget-view+json": {
       "model_id": "10e0955eb073407caa52499e940e5ff3",
       "version_major": 2,
       "version_minor": 0
      },
      "text/plain": [
       "  0%|          | 0/143 [00:00<?, ?it/s]"
      ]
     },
     "metadata": {},
     "output_type": "display_data"
    },
    {
     "data": {
      "application/vnd.jupyter.widget-view+json": {
       "model_id": "60a0f4de73554ff08a9f8c1ed88a833f",
       "version_major": 2,
       "version_minor": 0
      },
      "text/plain": [
       "  0%|          | 0/106 [00:00<?, ?it/s]"
      ]
     },
     "metadata": {},
     "output_type": "display_data"
    }
   ],
   "source": [
    "# Metropolitan Data\n",
    "save_data(metropolitan_street, PATH)\n",
    "save_data(metropolitan_outcomes, PATH)\n",
    "save_data(metropolitan_sas, PATH)\n",
    "save_data(metropolitan_neighborhood, PATH_to_neighbors)\n",
    "\n",
    "# BTP data\n",
    "save_data(btp_street, PATH)\n",
    "save_data(btp_outcomes, PATH)\n",
    "save_data(btp_sas, PATH)"
   ]
  },
  {
   "attachments": {},
   "cell_type": "markdown",
   "metadata": {},
   "source": [
    "# Getting all neighbourhoods"
   ]
  },
  {
   "cell_type": "code",
   "execution_count": 1,
   "metadata": {},
   "outputs": [],
   "source": [
    "import requests"
   ]
  },
  {
   "cell_type": "code",
   "execution_count": 2,
   "metadata": {},
   "outputs": [],
   "source": [
    "locate_neighbourhood_link = 'https://data.police.uk/api/metropolitan/neighbourhoods'\n",
    "met_neighbourhoods = requests.get(locate_neighbourhood_link).json()"
   ]
  },
  {
   "cell_type": "code",
   "execution_count": 3,
   "metadata": {},
   "outputs": [],
   "source": [
    "neighbourhoods = [neighbourhood['id'] for neighbourhood in met_neighbourhoods]"
   ]
  },
  {
   "attachments": {},
   "cell_type": "markdown",
   "metadata": {},
   "source": [
    "### Classify per borough"
   ]
  },
  {
   "cell_type": "code",
   "execution_count": 4,
   "metadata": {},
   "outputs": [
    {
     "name": "stderr",
     "output_type": "stream",
     "text": [
      "/var/folders/9z/6v7l930d5d3fnhz8w_cp8_gw0000gn/T/ipykernel_15105/987820437.py:1: TqdmExperimentalWarning: Using `tqdm.autonotebook.tqdm` in notebook mode. Use `tqdm.tqdm` instead to force console mode (e.g. in jupyter console)\n",
      "  from tqdm.autonotebook import tqdm\n"
     ]
    }
   ],
   "source": [
    "from tqdm.autonotebook import tqdm"
   ]
  },
  {
   "cell_type": "code",
   "execution_count": 5,
   "metadata": {},
   "outputs": [],
   "source": [
    "import re"
   ]
  },
  {
   "cell_type": "code",
   "execution_count": 7,
   "metadata": {},
   "outputs": [],
   "source": [
    "dick = {}\n",
    "for value in tqdm(neighbourhoods, total = len(neighbourhoods)):\n",
    "    try:\n",
    "        data = requests.get(f'https://findthatpostcode.uk/areas/{value}.json').json()['included']\n",
    "        name = data[6]['attributes']['name']\n",
    "        if name in dick.keys():\n",
    "            dick[name].append(value)\n",
    "        else:\n",
    "            dick[name] = [value]\n",
    "    except Exception as e:\n",
    "        data = requests.get(f'https://findthatpostcode.uk/areas/{value[:-1]}.json').json()['included']\n",
    "        name = data[6]['attributes']['name']\n",
    "        if name in dick.keys():\n",
    "            dick[name].append(value)\n",
    "        else:\n",
    "            dick[name] = [value]\n",
    "print('Done')"
   ]
  },
  {
   "cell_type": "code",
   "execution_count": null,
   "metadata": {},
   "outputs": [],
   "source": [
    "import json\n",
    "with open(PATH + 'boroughs_neighbourhoods.json', 'w') as file:\n",
    "    json.dump(dick, file)"
   ]
  },
  {
   "cell_type": "code",
   "execution_count": 4,
   "metadata": {},
   "outputs": [],
   "source": [
    "import json\n",
    "import pandas as pd"
   ]
  },
  {
   "cell_type": "code",
   "execution_count": 5,
   "metadata": {},
   "outputs": [
    {
     "data": {
      "text/html": [
       "<div>\n",
       "<style scoped>\n",
       "    .dataframe tbody tr th:only-of-type {\n",
       "        vertical-align: middle;\n",
       "    }\n",
       "\n",
       "    .dataframe tbody tr th {\n",
       "        vertical-align: top;\n",
       "    }\n",
       "\n",
       "    .dataframe thead th {\n",
       "        text-align: right;\n",
       "    }\n",
       "</style>\n",
       "<table border=\"1\" class=\"dataframe\">\n",
       "  <thead>\n",
       "    <tr style=\"text-align: right;\">\n",
       "      <th></th>\n",
       "      <th>Borough</th>\n",
       "      <th>Area Code</th>\n",
       "    </tr>\n",
       "  </thead>\n",
       "  <tbody>\n",
       "    <tr>\n",
       "      <th>0</th>\n",
       "      <td>Tower Hamlets</td>\n",
       "      <td>E05009317</td>\n",
       "    </tr>\n",
       "    <tr>\n",
       "      <th>1</th>\n",
       "      <td>Tower Hamlets</td>\n",
       "      <td>E05009318</td>\n",
       "    </tr>\n",
       "    <tr>\n",
       "      <th>2</th>\n",
       "      <td>Tower Hamlets</td>\n",
       "      <td>E05009319</td>\n",
       "    </tr>\n",
       "    <tr>\n",
       "      <th>3</th>\n",
       "      <td>Tower Hamlets</td>\n",
       "      <td>E05009320</td>\n",
       "    </tr>\n",
       "    <tr>\n",
       "      <th>4</th>\n",
       "      <td>Tower Hamlets</td>\n",
       "      <td>E05009321</td>\n",
       "    </tr>\n",
       "    <tr>\n",
       "      <th>...</th>\n",
       "      <td>...</td>\n",
       "      <td>...</td>\n",
       "    </tr>\n",
       "    <tr>\n",
       "      <th>674</th>\n",
       "      <td>Lambeth</td>\n",
       "      <td>E05014115</td>\n",
       "    </tr>\n",
       "    <tr>\n",
       "      <th>675</th>\n",
       "      <td>Lambeth</td>\n",
       "      <td>E05014116</td>\n",
       "    </tr>\n",
       "    <tr>\n",
       "      <th>676</th>\n",
       "      <td>Lambeth</td>\n",
       "      <td>E05014117</td>\n",
       "    </tr>\n",
       "    <tr>\n",
       "      <th>677</th>\n",
       "      <td>Lambeth</td>\n",
       "      <td>E05014118</td>\n",
       "    </tr>\n",
       "    <tr>\n",
       "      <th>678</th>\n",
       "      <td>Lambeth</td>\n",
       "      <td>E05014119</td>\n",
       "    </tr>\n",
       "  </tbody>\n",
       "</table>\n",
       "<p>679 rows × 2 columns</p>\n",
       "</div>"
      ],
      "text/plain": [
       "           Borough  Area Code\n",
       "0    Tower Hamlets  E05009317\n",
       "1    Tower Hamlets  E05009318\n",
       "2    Tower Hamlets  E05009319\n",
       "3    Tower Hamlets  E05009320\n",
       "4    Tower Hamlets  E05009321\n",
       "..             ...        ...\n",
       "674        Lambeth  E05014115\n",
       "675        Lambeth  E05014116\n",
       "676        Lambeth  E05014117\n",
       "677        Lambeth  E05014118\n",
       "678        Lambeth  E05014119\n",
       "\n",
       "[679 rows x 2 columns]"
      ]
     },
     "execution_count": 5,
     "metadata": {},
     "output_type": "execute_result"
    }
   ],
   "source": [
    "# Load JSON data from file\n",
    "with open('/Users/ansat.omurzakov/Desktop/TUe/Data Challenge 2/data/boroughs_neighbourhoods.json', 'r') as file:\n",
    "    json_data = json.load(file)\n",
    "\n",
    "# Convert JSON data to a DataFrame\n",
    "boroughs_data = []\n",
    "for borough, area_codes in json_data.items():\n",
    "    for area_code in area_codes:\n",
    "        boroughs_data.append({'Borough': borough, 'Area Code': area_code})\n",
    "\n",
    "boroughs_neighbours = pd.DataFrame(boroughs_data)\n",
    "boroughs_neighbours"
   ]
  },
  {
   "cell_type": "code",
   "execution_count": 13,
   "metadata": {},
   "outputs": [],
   "source": [
    "import requests"
   ]
  },
  {
   "cell_type": "code",
   "execution_count": 23,
   "metadata": {},
   "outputs": [
    {
     "name": "stderr",
     "output_type": "stream",
     "text": [
      "  3%|▎         | 1/32 [00:07<03:52,  7.50s/it]"
     ]
    },
    {
     "name": "stdout",
     "output_type": "stream",
     "text": [
      "[INFO] Added neighbourhoods and their boundaries for Tower Hamlets\n"
     ]
    },
    {
     "name": "stderr",
     "output_type": "stream",
     "text": [
      "  6%|▋         | 2/32 [00:15<03:53,  7.79s/it]"
     ]
    },
    {
     "name": "stdout",
     "output_type": "stream",
     "text": [
      "[INFO] Added neighbourhoods and their boundaries for Hackney\n"
     ]
    },
    {
     "name": "stderr",
     "output_type": "stream",
     "text": [
      "  9%|▉         | 3/32 [00:22<03:33,  7.36s/it]"
     ]
    },
    {
     "name": "stdout",
     "output_type": "stream",
     "text": [
      "[INFO] Added neighbourhoods and their boundaries for Kensington and Chelsea\n"
     ]
    },
    {
     "name": "stderr",
     "output_type": "stream",
     "text": [
      " 12%|█▎        | 4/32 [00:32<03:56,  8.45s/it]"
     ]
    },
    {
     "name": "stdout",
     "output_type": "stream",
     "text": [
      "[INFO] Added neighbourhoods and their boundaries for Southwark\n"
     ]
    },
    {
     "name": "stderr",
     "output_type": "stream",
     "text": [
      " 16%|█▌        | 5/32 [00:38<03:25,  7.60s/it]"
     ]
    },
    {
     "name": "stdout",
     "output_type": "stream",
     "text": [
      "[INFO] Added neighbourhoods and their boundaries for Bexley\n"
     ]
    },
    {
     "name": "stderr",
     "output_type": "stream",
     "text": [
      " 19%|█▉        | 6/32 [00:46<03:24,  7.87s/it]"
     ]
    },
    {
     "name": "stdout",
     "output_type": "stream",
     "text": [
      "[INFO] Added neighbourhoods and their boundaries for Redbridge\n"
     ]
    },
    {
     "name": "stderr",
     "output_type": "stream",
     "text": [
      " 22%|██▏       | 7/32 [00:57<03:39,  8.80s/it]"
     ]
    },
    {
     "name": "stdout",
     "output_type": "stream",
     "text": [
      "[INFO] Added neighbourhoods and their boundaries for Croydon\n"
     ]
    },
    {
     "name": "stderr",
     "output_type": "stream",
     "text": [
      " 25%|██▌       | 8/32 [01:06<03:34,  8.93s/it]"
     ]
    },
    {
     "name": "stdout",
     "output_type": "stream",
     "text": [
      "[INFO] Added neighbourhoods and their boundaries for Brent\n"
     ]
    },
    {
     "name": "stderr",
     "output_type": "stream",
     "text": [
      " 28%|██▊       | 9/32 [01:16<03:29,  9.10s/it]"
     ]
    },
    {
     "name": "stdout",
     "output_type": "stream",
     "text": [
      "[INFO] Added neighbourhoods and their boundaries for Ealing\n"
     ]
    },
    {
     "name": "stderr",
     "output_type": "stream",
     "text": [
      " 31%|███▏      | 10/32 [01:25<03:19,  9.07s/it]"
     ]
    },
    {
     "name": "stdout",
     "output_type": "stream",
     "text": [
      "[INFO] Added neighbourhoods and their boundaries for Harrow\n"
     ]
    },
    {
     "name": "stderr",
     "output_type": "stream",
     "text": [
      " 34%|███▍      | 11/32 [01:33<03:05,  8.83s/it]"
     ]
    },
    {
     "name": "stdout",
     "output_type": "stream",
     "text": [
      "[INFO] Added neighbourhoods and their boundaries for Hillingdon\n"
     ]
    },
    {
     "name": "stderr",
     "output_type": "stream",
     "text": [
      " 38%|███▊      | 12/32 [01:41<02:50,  8.53s/it]"
     ]
    },
    {
     "name": "stdout",
     "output_type": "stream",
     "text": [
      "[INFO] Added neighbourhoods and their boundaries for Haringey\n"
     ]
    },
    {
     "name": "stderr",
     "output_type": "stream",
     "text": [
      " 41%|████      | 13/32 [01:50<02:44,  8.66s/it]"
     ]
    },
    {
     "name": "stdout",
     "output_type": "stream",
     "text": [
      "[INFO] Added neighbourhoods and their boundaries for Hounslow\n"
     ]
    },
    {
     "name": "stderr",
     "output_type": "stream",
     "text": [
      " 44%|████▍     | 14/32 [02:00<02:45,  9.19s/it]"
     ]
    },
    {
     "name": "stdout",
     "output_type": "stream",
     "text": [
      "[INFO] Added neighbourhoods and their boundaries for Barnet\n"
     ]
    },
    {
     "name": "stderr",
     "output_type": "stream",
     "text": [
      " 47%|████▋     | 15/32 [02:09<02:31,  8.92s/it]"
     ]
    },
    {
     "name": "stdout",
     "output_type": "stream",
     "text": [
      "[INFO] Added neighbourhoods and their boundaries for Camden\n"
     ]
    },
    {
     "name": "stderr",
     "output_type": "stream",
     "text": [
      " 50%|█████     | 16/32 [02:20<02:33,  9.59s/it]"
     ]
    },
    {
     "name": "stdout",
     "output_type": "stream",
     "text": [
      "[INFO] Added neighbourhoods and their boundaries for Enfield\n"
     ]
    },
    {
     "name": "stderr",
     "output_type": "stream",
     "text": [
      " 53%|█████▎    | 17/32 [02:26<02:08,  8.55s/it]"
     ]
    },
    {
     "name": "stdout",
     "output_type": "stream",
     "text": [
      "[INFO] Added neighbourhoods and their boundaries for Islington\n"
     ]
    },
    {
     "name": "stderr",
     "output_type": "stream",
     "text": [
      " 56%|█████▋    | 18/32 [02:33<01:54,  8.17s/it]"
     ]
    },
    {
     "name": "stdout",
     "output_type": "stream",
     "text": [
      "[INFO] Added neighbourhoods and their boundaries for Lewisham\n"
     ]
    },
    {
     "name": "stderr",
     "output_type": "stream",
     "text": [
      " 59%|█████▉    | 19/32 [02:40<01:42,  7.88s/it]"
     ]
    },
    {
     "name": "stdout",
     "output_type": "stream",
     "text": [
      "[INFO] Added neighbourhoods and their boundaries for Hammersmith and Fulham\n"
     ]
    },
    {
     "name": "stderr",
     "output_type": "stream",
     "text": [
      " 62%|██████▎   | 20/32 [02:48<01:34,  7.84s/it]"
     ]
    },
    {
     "name": "stdout",
     "output_type": "stream",
     "text": [
      "[INFO] Added neighbourhoods and their boundaries for Sutton\n"
     ]
    },
    {
     "name": "stderr",
     "output_type": "stream",
     "text": [
      " 66%|██████▌   | 21/32 [02:55<01:24,  7.67s/it]"
     ]
    },
    {
     "name": "stdout",
     "output_type": "stream",
     "text": [
      "[INFO] Added neighbourhoods and their boundaries for Richmond upon Thames\n"
     ]
    },
    {
     "name": "stderr",
     "output_type": "stream",
     "text": [
      " 69%|██████▉   | 22/32 [03:02<01:13,  7.36s/it]"
     ]
    },
    {
     "name": "stdout",
     "output_type": "stream",
     "text": [
      "[INFO] Added neighbourhoods and their boundaries for Westminster\n"
     ]
    },
    {
     "name": "stderr",
     "output_type": "stream",
     "text": [
      " 72%|███████▏  | 23/32 [03:11<01:10,  7.83s/it]"
     ]
    },
    {
     "name": "stdout",
     "output_type": "stream",
     "text": [
      "[INFO] Added neighbourhoods and their boundaries for Merton\n"
     ]
    },
    {
     "name": "stderr",
     "output_type": "stream",
     "text": [
      " 75%|███████▌  | 24/32 [03:19<01:03,  7.90s/it]"
     ]
    },
    {
     "name": "stdout",
     "output_type": "stream",
     "text": [
      "[INFO] Added neighbourhoods and their boundaries for Waltham Forest\n"
     ]
    },
    {
     "name": "stderr",
     "output_type": "stream",
     "text": [
      " 78%|███████▊  | 25/32 [03:29<00:59,  8.52s/it]"
     ]
    },
    {
     "name": "stdout",
     "output_type": "stream",
     "text": [
      "[INFO] Added neighbourhoods and their boundaries for Newham\n"
     ]
    },
    {
     "name": "stderr",
     "output_type": "stream",
     "text": [
      " 81%|████████▏ | 26/32 [03:37<00:49,  8.20s/it]"
     ]
    },
    {
     "name": "stdout",
     "output_type": "stream",
     "text": [
      "[INFO] Added neighbourhoods and their boundaries for Kingston upon Thames\n"
     ]
    },
    {
     "name": "stderr",
     "output_type": "stream",
     "text": [
      " 84%|████████▍ | 27/32 [03:45<00:41,  8.24s/it]"
     ]
    },
    {
     "name": "stdout",
     "output_type": "stream",
     "text": [
      "[INFO] Added neighbourhoods and their boundaries for Havering\n"
     ]
    },
    {
     "name": "stderr",
     "output_type": "stream",
     "text": [
      " 88%|████████▊ | 28/32 [03:55<00:34,  8.67s/it]"
     ]
    },
    {
     "name": "stdout",
     "output_type": "stream",
     "text": [
      "[INFO] Added neighbourhoods and their boundaries for Bromley\n"
     ]
    },
    {
     "name": "stderr",
     "output_type": "stream",
     "text": [
      " 91%|█████████ | 29/32 [04:03<00:25,  8.50s/it]"
     ]
    },
    {
     "name": "stdout",
     "output_type": "stream",
     "text": [
      "[INFO] Added neighbourhoods and their boundaries for Wandsworth\n"
     ]
    },
    {
     "name": "stderr",
     "output_type": "stream",
     "text": [
      " 94%|█████████▍| 30/32 [04:10<00:16,  8.10s/it]"
     ]
    },
    {
     "name": "stdout",
     "output_type": "stream",
     "text": [
      "[INFO] Added neighbourhoods and their boundaries for Barking and Dagenham\n"
     ]
    },
    {
     "name": "stderr",
     "output_type": "stream",
     "text": [
      " 97%|█████████▋| 31/32 [04:19<00:08,  8.36s/it]"
     ]
    },
    {
     "name": "stdout",
     "output_type": "stream",
     "text": [
      "[INFO] Added neighbourhoods and their boundaries for Greenwich\n"
     ]
    },
    {
     "name": "stderr",
     "output_type": "stream",
     "text": [
      "100%|██████████| 32/32 [04:30<00:00,  8.46s/it]"
     ]
    },
    {
     "name": "stdout",
     "output_type": "stream",
     "text": [
      "[INFO] Added neighbourhoods and their boundaries for Lambeth\n"
     ]
    },
    {
     "name": "stderr",
     "output_type": "stream",
     "text": [
      "\n"
     ]
    }
   ],
   "source": [
    "import requests\n",
    "from tqdm import tqdm\n",
    "\n",
    "b_n_b = {}\n",
    "\n",
    "for borough in tqdm(boroughs_neighbours['Borough'].unique(), total=len(boroughs_neighbours['Borough'].unique())):\n",
    "    if borough not in b_n_b:\n",
    "        b_n_b[borough] = []\n",
    "    for neighbourhood in boroughs_neighbours[boroughs_neighbours['Borough'] == borough]['Area Code'].unique():\n",
    "        boundary_points = [(item['latitude'], item['longitude']) for item in requests.get(f'https://data.police.uk/api/metropolitan/{neighbourhood}/boundary').json()]\n",
    "        b_n_b[borough].append({neighbourhood: boundary_points})\n",
    "    print(f'[INFO] Added neighbourhoods and their boundaries for {borough}')"
   ]
  },
  {
   "cell_type": "code",
   "execution_count": 30,
   "metadata": {},
   "outputs": [
    {
     "name": "stdout",
     "output_type": "stream",
     "text": [
      "JSON file saved successfully.\n"
     ]
    }
   ],
   "source": [
    "# Specify the file path\n",
    "json_file_path = \"/Users/ansat.omurzakov/Desktop/TUe/Data Challenge 2/data/neighborhood_boundaries.json\"\n",
    "\n",
    "# Save the dictionary as a JSON file\n",
    "with open(json_file_path, \"w\") as json_file:\n",
    "    json.dump(b_n_b, json_file)\n",
    "\n",
    "print(\"JSON file saved successfully.\")"
   ]
  },
  {
   "cell_type": "code",
   "execution_count": null,
   "metadata": {},
   "outputs": [],
   "source": []
  }
 ],
 "metadata": {
  "kernelspec": {
   "display_name": "Python 3",
   "language": "python",
   "name": "python3"
  },
  "language_info": {
   "codemirror_mode": {
    "name": "ipython",
    "version": 3
   },
   "file_extension": ".py",
   "mimetype": "text/x-python",
   "name": "python",
   "nbconvert_exporter": "python",
   "pygments_lexer": "ipython3",
   "version": "3.12.0"
  },
  "orig_nbformat": 4
 },
 "nbformat": 4,
 "nbformat_minor": 2
}
