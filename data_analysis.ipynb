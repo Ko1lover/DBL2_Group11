{
 "cells": [
  {
   "cell_type": "code",
   "execution_count": 23,
   "metadata": {},
   "outputs": [],
   "source": [
    "import pandas as pd\n",
    "import plotly.express as px\n",
    "import numpy as np"
   ]
  },
  {
   "cell_type": "code",
   "execution_count": 24,
   "metadata": {},
   "outputs": [],
   "source": [
    "PATH = '/Users/ansat.omurzakov/Desktop/TUe/Data Challenge 2/data/'"
   ]
  },
  {
   "cell_type": "code",
   "execution_count": 25,
   "metadata": {},
   "outputs": [
    {
     "name": "stderr",
     "output_type": "stream",
     "text": [
      "/var/folders/9z/6v7l930d5d3fnhz8w_cp8_gw0000gn/T/ipykernel_48448/1198611584.py:1: DtypeWarning: Columns (2) have mixed types. Specify dtype option on import or set low_memory=False.\n",
      "  sas = pd.read_csv(PATH + 'metropolitan-stop-and-search.csv')\n"
     ]
    }
   ],
   "source": [
    "sas = pd.read_csv(PATH + 'metropolitan-stop-and-search.csv')"
   ]
  },
  {
   "cell_type": "code",
   "execution_count": 26,
   "metadata": {},
   "outputs": [],
   "source": [
    "sas = sas.drop(['Part of a policing operation', 'Policing operation', 'Outcome linked to object of search', 'Removal of more than just outer clothing'], axis = 1)"
   ]
  },
  {
   "cell_type": "code",
   "execution_count": 20,
   "metadata": {},
   "outputs": [],
   "source": [
    "# sas = sas[~(\n",
    "#     (sas['Officer-defined ethnicity'].isin(['Other'])) &\n",
    "#     (sas['Self-defined ethnicity'].isin([\n",
    "#         'Other ethnic group - Any other ethnic group', \n",
    "#         'Not Stated (NS)', \n",
    "#         'Other ethnic group - Not stated', \n",
    "#         'Chinese or other ethnic group - Any other ethnic group (O9)',\n",
    "#         'Mixed/Multiple ethnic groups - Any other Mixed/Multiple ethnic background',\n",
    "#         'Mixed - Any other Mixed ethnic background (M9)',\n",
    "#         'Chinese or other ethnic group - Any other ethnic group (O9)',\n",
    "#     ]))\n",
    "# )]"
   ]
  },
  {
   "cell_type": "code",
   "execution_count": 27,
   "metadata": {},
   "outputs": [],
   "source": [
    "sas = sas[(sas['Officer-defined ethnicity'].isna() == False) & (sas['Self-defined ethnicity'].isna() == False)]"
   ]
  },
  {
   "cell_type": "code",
   "execution_count": 28,
   "metadata": {},
   "outputs": [
    {
     "data": {
      "text/plain": [
       "1606350"
      ]
     },
     "execution_count": 28,
     "metadata": {},
     "output_type": "execute_result"
    }
   ],
   "source": [
    "len(sas)"
   ]
  },
  {
   "cell_type": "code",
   "execution_count": 39,
   "metadata": {},
   "outputs": [
    {
     "data": {
      "text/plain": [
       "array(['Mixed/Multiple ethnic groups - Any other Mixed/Multiple ethnic background',\n",
       "       'Black/African/Caribbean/Black British - Any other Black/African/Caribbean background',\n",
       "       'White - English/Welsh/Scottish/Northern Irish/British',\n",
       "       'Black/African/Caribbean/Black British - Caribbean',\n",
       "       'Other ethnic group - Not stated',\n",
       "       'Black/African/Caribbean/Black British - African',\n",
       "       'Asian/Asian British - Chinese',\n",
       "       'Asian/Asian British - Bangladeshi',\n",
       "       'Asian/Asian British - Any other Asian background',\n",
       "       'White - Irish', 'White - Any other White background',\n",
       "       'Asian/Asian British - Indian',\n",
       "       'Other ethnic group - Any other ethnic group',\n",
       "       'Mixed/Multiple ethnic groups - White and Black Caribbean',\n",
       "       'Asian/Asian British - Pakistani',\n",
       "       'Mixed/Multiple ethnic groups - White and Asian',\n",
       "       'Mixed/Multiple ethnic groups - White and Black African',\n",
       "       'Black or Black British - Any other Black ethnic background (B9)',\n",
       "       'Not Stated (NS)', 'White - White British (W1)',\n",
       "       'Mixed - White and Black Caribbean (M1)',\n",
       "       'Chinese or other ethnic group - Any other ethnic group (O9)',\n",
       "       'Asian or Asian British - Any other Asian ethnic background (A9)',\n",
       "       'Asian or Asian British - Bangladeshi (A3)',\n",
       "       'Black or Black British - African (B2)',\n",
       "       'Mixed - Any other Mixed ethnic background (M9)',\n",
       "       'Asian or Asian British - Pakistani (A2)',\n",
       "       'White - Any other White ethnic background (W9)',\n",
       "       'Black or Black British - Caribbean (B1)',\n",
       "       'White - White Irish (W2)', 'Asian or Asian British - Indian (A1)',\n",
       "       'Mixed - White and Asian (M3)',\n",
       "       'Mixed - White and Black African (M2)',\n",
       "       'Chinese or other ethnic group - Chinese (O1)'], dtype=object)"
      ]
     },
     "execution_count": 39,
     "metadata": {},
     "output_type": "execute_result"
    }
   ],
   "source": [
    "sas['Self-defined ethnicity'].unique()"
   ]
  },
  {
   "cell_type": "code",
   "execution_count": 38,
   "metadata": {},
   "outputs": [],
   "source": [
    "import re"
   ]
  },
  {
   "cell_type": "code",
   "execution_count": 52,
   "metadata": {},
   "outputs": [],
   "source": [
    "string = ' asjfl;kasflk;ajflakfa '"
   ]
  },
  {
   "cell_type": "code",
   "execution_count": 55,
   "metadata": {},
   "outputs": [
    {
     "data": {
      "text/plain": [
       "' asjfl;kasflk;ajflakfa'"
      ]
     },
     "execution_count": 55,
     "metadata": {},
     "output_type": "execute_result"
    }
   ],
   "source": []
  },
  {
   "cell_type": "code",
   "execution_count": 59,
   "metadata": {},
   "outputs": [
    {
     "name": "stdout",
     "output_type": "stream",
     "text": [
      "Mixed/unstated is found\n"
     ]
    }
   ],
   "source": [
    "\n",
    "if re.match(r'^(Mixed)|(Other)|(Not)', 'Not Stated (NS)'):\n",
    "    print('Mixed/unstated is found')"
   ]
  },
  {
   "cell_type": "code",
   "execution_count": 63,
   "metadata": {},
   "outputs": [],
   "source": [
    "# make a function to combine people into groups\n",
    "def group_ethnicity(data):\n",
    "    if data['Officer-defined ethnicity'] == 'Other':\n",
    "        if re.match(r\"^(White)\", data['Officer-defined ethnicity']):\n",
    "            return 'White'\n",
    "        elif re.match(r\"^(Black)\", data['Officer-defined ethnicity']):\n",
    "            return 'Black'\n",
    "        elif re.match(r\"^(Asian)|(Chinese)\", data['Officer-defined ethnicity']):\n",
    "            return 'Asian'\n",
    "        elif re.match(r\"^(Mixed)|(Other)|(Not)\",data['Officer-defined ethnicity']):\n",
    "            return 'Mixed'\n",
    "    else:\n",
    "        return data['Officer-defined ethnicity']\n",
    "        "
   ]
  },
  {
   "cell_type": "code",
   "execution_count": 64,
   "metadata": {},
   "outputs": [],
   "source": [
    "sas['generalized_ethnicity'] = sas.apply(group_ethnicity, axis = 1)"
   ]
  },
  {
   "cell_type": "code",
   "execution_count": 66,
   "metadata": {},
   "outputs": [
    {
     "data": {
      "text/plain": [
       "array(['Black', 'White', 'Asian', 'Mixed'], dtype=object)"
      ]
     },
     "execution_count": 66,
     "metadata": {},
     "output_type": "execute_result"
    }
   ],
   "source": [
    "sas['generalized_ethnicity'].unique()"
   ]
  },
  {
   "cell_type": "code",
   "execution_count": 16,
   "metadata": {},
   "outputs": [
    {
     "ename": "NameError",
     "evalue": "name 'sas' is not defined",
     "output_type": "error",
     "traceback": [
      "\u001b[0;31m---------------------------------------------------------------------------\u001b[0m",
      "\u001b[0;31mNameError\u001b[0m                                 Traceback (most recent call last)",
      "Cell \u001b[0;32mIn[16], line 1\u001b[0m\n\u001b[0;32m----> 1\u001b[0m sas[\u001b[39m'\u001b[39m\u001b[39myear\u001b[39m\u001b[39m'\u001b[39m]\u001b[39m.\u001b[39mdtype\n",
      "\u001b[0;31mNameError\u001b[0m: name 'sas' is not defined"
     ]
    }
   ],
   "source": [
    "sas['year'].dtype"
   ]
  },
  {
   "cell_type": "code",
   "execution_count": null,
   "metadata": {},
   "outputs": [],
   "source": [
    "sas['year'] = pd.to_datetime(sas['Date']).dt.year\n",
    "sas['month'] = pd.to_datetime(sas['Date']).dt.month\n",
    "sas['day'] = pd.to_datetime(sas['Date']).dt.day\n",
    "sas['weekday'] = pd.to_datetime(sas['Date']).dt.day_name()"
   ]
  },
  {
   "cell_type": "code",
   "execution_count": null,
   "metadata": {},
   "outputs": [],
   "source": [
    "px.histogram(sas[(sas['Gender'] == 'Female') & (sas['Age range'] == '18-24')], x = 'year', color = 'Officer-defined ethnicity')"
   ]
  },
  {
   "cell_type": "code",
   "execution_count": null,
   "metadata": {},
   "outputs": [],
   "source": [
    "px.histogram(sas[(sas['Gender'] == 'Female') & (sas['Age range'] == '25-34')], x = 'year', color = 'Officer-defined ethnicity')"
   ]
  },
  {
   "cell_type": "code",
   "execution_count": null,
   "metadata": {},
   "outputs": [],
   "source": [
    "px.histogram(sas[(sas['Gender'] == 'Female') & (sas['Age range'] == '10-17')], x = 'year', color = 'Officer-defined ethnicity')"
   ]
  },
  {
   "cell_type": "code",
   "execution_count": null,
   "metadata": {},
   "outputs": [],
   "source": [
    "px.histogram(sas[(sas['Gender'] == 'Female') & (sas['Age range'] == 'over 34')], x = 'year', color = 'Officer-defined ethnicity')"
   ]
  },
  {
   "cell_type": "code",
   "execution_count": null,
   "metadata": {},
   "outputs": [],
   "source": [
    "px.histogram(sas[(sas['Gender'] == 'Female') & (sas['Age range'] == 'under 10')], x = 'year', color = 'Officer-defined ethnicity')"
   ]
  },
  {
   "cell_type": "code",
   "execution_count": null,
   "metadata": {},
   "outputs": [],
   "source": [
    "def create_heatmap_per_year(df):\n",
    "    # Filter data for years 2011-2023\n",
    "    years = range(2015, 2024)\n",
    "    \n",
    "    for year in years:\n",
    "        # Filter data for the current year\n",
    "        df_filtered = df[df['year'] == year].drop('year', axis = 1)\n",
    "\n",
    "        # Create pivot table with counts for each combination of Crime type, Last outcome category, and Year\n",
    "        pivot_table = df_filtered.pivot_table(index=['Legislation'], columns=['Object of search'], aggfunc=len, fill_value=0)\n",
    "\n",
    "        # Create heatmap using Plotly\n",
    "        fig = px.imshow(pivot_table.values,\n",
    "                        labels=dict(x=\"Object of search\", y=\"Legislation\", color=\"Count\"),\n",
    "                        x=pivot_table.columns,\n",
    "                        y=pivot_table.index,\n",
    "                        color_continuous_scale='viridis')\n",
    "\n",
    "        fig.update_layout(title=f'Crime Type and Last Outcome Category Heatmap for Year {year}',\n",
    "                          width=800,  # Adjust width of the plot\n",
    "                          height=600,  # Adjust height of the plot\n",
    "                          margin=dict(l=50, r=50, t=100, b=100),  # Adjust margins\n",
    "                          xaxis=dict(tickangle=-45),  # Rotate x-axis labels by -45 degrees\n",
    "                          yaxis=dict(tickmode='array', tickvals=list(range(len(pivot_table.index))), ticktext=pivot_table.index))  # Disable aspect ratio constraint\n",
    "\n",
    "        fig.show()"
   ]
  },
  {
   "cell_type": "code",
   "execution_count": null,
   "metadata": {},
   "outputs": [],
   "source": [
    "create_heatmap_per_year(sas[['Object of search', 'Legislation', 'year']])"
   ]
  },
  {
   "cell_type": "code",
   "execution_count": null,
   "metadata": {},
   "outputs": [],
   "source": [
    "sas"
   ]
  },
  {
   "cell_type": "code",
   "execution_count": null,
   "metadata": {},
   "outputs": [],
   "source": [
    "sas[\"Object of search\"].unique()"
   ]
  },
  {
   "cell_type": "code",
   "execution_count": null,
   "metadata": {},
   "outputs": [],
   "source": [
    "px.histogram(sas, x = 'Age range', color = 'Officer-defined ethnicity')\n",
    "# get the percentage"
   ]
  },
  {
   "cell_type": "code",
   "execution_count": null,
   "metadata": {},
   "outputs": [],
   "source": [
    "sas_counts = sas.groupby('Self-defined ethnicity').count().sort_values(by = 'Type').reset_index()"
   ]
  },
  {
   "cell_type": "code",
   "execution_count": null,
   "metadata": {},
   "outputs": [],
   "source": [
    "px.histogram(sas_counts, x= 'Self-defined ethnicity', y = 'Type')"
   ]
  },
  {
   "cell_type": "code",
   "execution_count": null,
   "metadata": {},
   "outputs": [],
   "source": [
    "import re"
   ]
  },
  {
   "cell_type": "code",
   "execution_count": null,
   "metadata": {},
   "outputs": [],
   "source": []
  },
  {
   "cell_type": "code",
   "execution_count": null,
   "metadata": {},
   "outputs": [],
   "source": [
    "if re.match(r\"^(White)|(Asian)|(Black)\", sas[sas['Officer-defined ethnicity'] == 'Other'].iloc[1]['Self-defined ethnicity']):\n",
    "   print(re.match(r\"^(White)|(Asian)|(Black)\", sas[sas['Officer-defined ethnicity'] == 'Other'].iloc[1]['Self-defined ethnicity'])[0])\n",
    "else:\n",
    "    print('penis')"
   ]
  },
  {
   "cell_type": "code",
   "execution_count": null,
   "metadata": {},
   "outputs": [],
   "source": []
  },
  {
   "cell_type": "code",
   "execution_count": null,
   "metadata": {},
   "outputs": [],
   "source": [
    "def change_ethnicity(ethnicity):\n",
    "    if re.match(r\"^(White)|(Asian)|(Black)\", ethnicity):\n",
    "        return re.match(r\"^(White)|(Asian)|(Black)\", ethnicity)[0]"
   ]
  },
  {
   "cell_type": "code",
   "execution_count": null,
   "metadata": {},
   "outputs": [],
   "source": [
    "sas[sas['Officer-defined ethnicity'] == 'Other']['Officer-defined ethnicity'] = sas[sas['Officer-defined ethnicity'] == 'Other']['Self-defined ethnicity'].apply(change_ethnicity)"
   ]
  },
  {
   "cell_type": "code",
   "execution_count": null,
   "metadata": {},
   "outputs": [],
   "source": [
    "sas[sas['Officer-defined ethnicity'] == 'Other']['Officer-defined ethnicity'] "
   ]
  },
  {
   "cell_type": "code",
   "execution_count": null,
   "metadata": {},
   "outputs": [],
   "source": [
    "# 31,497 occurences where officer-defined ethnicity is NaN\n",
    "# 12,597 occurences from above do have the self defined ethnicity"
   ]
  },
  {
   "cell_type": "code",
   "execution_count": null,
   "metadata": {},
   "outputs": [],
   "source": [
    "px.histogram(sas[(sas['Officer-defined ethnicity'].isna()) & (sas['Self-defined ethnicity'].isna() == False)].groupby('Self-defined ethnicity').count().sort_values(by = 'Type').reset_index(), x = 'Self-defined ethnicity', y = 'Type')"
   ]
  },
  {
   "cell_type": "code",
   "execution_count": null,
   "metadata": {},
   "outputs": [],
   "source": [
    "# sas[(sas['Officer-defined ethnicity'].isna()) & (sas['Self-defined ethnicity'].isna() == False)].groupby('Self-defined ethnicity').count().sort_values(by = 'Type').reset_index()"
   ]
  },
  {
   "cell_type": "code",
   "execution_count": null,
   "metadata": {},
   "outputs": [],
   "source": [
    "sas['year'] = pd.to_datetime(sas['Date']).dt.year"
   ]
  },
  {
   "cell_type": "code",
   "execution_count": null,
   "metadata": {},
   "outputs": [],
   "source": [
    "sorted(sas['year'].unique())"
   ]
  },
  {
   "cell_type": "code",
   "execution_count": null,
   "metadata": {},
   "outputs": [],
   "source": [
    "sas.columns"
   ]
  },
  {
   "cell_type": "code",
   "execution_count": null,
   "metadata": {},
   "outputs": [],
   "source": [
    "pd.to_datetime(sas['Date']).dt.day.unique()"
   ]
  },
  {
   "cell_type": "code",
   "execution_count": null,
   "metadata": {},
   "outputs": [],
   "source": [
    "px.histogram(sas, x= 'Officer-defined ethnicity', color = 'Self-defined ethnicity')"
   ]
  },
  {
   "attachments": {},
   "cell_type": "markdown",
   "metadata": {},
   "source": [
    "# Pick the ethnicity properly"
   ]
  },
  {
   "cell_type": "code",
   "execution_count": null,
   "metadata": {},
   "outputs": [],
   "source": [
    "def change_ethnicity(ethnicity):\n",
    "    if re.match(r\"^(White)|(Asian)|(Black)\", ethnicity):\n",
    "        return re.match(r\"^(White)|(Asian)|(Black)\", ethnicity)[0]"
   ]
  },
  {
   "cell_type": "code",
   "execution_count": null,
   "metadata": {},
   "outputs": [],
   "source": [
    "smth = sas[sas['Self-defined ethnicity'].isna() == False]\n",
    "smth1 = smth[smth['Self-defined ethnicity'].str.startswith('White')]\n",
    "smth2 = smth[smth['Self-defined ethnicity'].str.startswith('Black')]\n",
    "smth3 = smth[smth['Self-defined ethnicity'].str.startswith('Asian')]"
   ]
  },
  {
   "cell_type": "code",
   "execution_count": null,
   "metadata": {},
   "outputs": [],
   "source": [
    "count_total = smth1.groupby('Officer-defined ethnicity').count()[['Type']]\n",
    "count_total['percentage'] = count_total['Type']/count_total['Type'].sum() * 100\n",
    "count_total_white = count_total.reset_index().sort_values(by = 'percentage', ascending = False)\n",
    "px.histogram(count_total_white, x = 'Officer-defined ethnicity', y = 'percentage')"
   ]
  },
  {
   "cell_type": "code",
   "execution_count": null,
   "metadata": {},
   "outputs": [],
   "source": [
    "count_total = smth2.groupby('Officer-defined ethnicity').count()[['Type']]\n",
    "count_total['percentage'] = count_total['Type']/count_total['Type'].sum() * 100\n",
    "count_total_black = count_total.reset_index().sort_values(by = 'percentage', ascending = False)\n",
    "px.histogram(count_total_black, x = 'Officer-defined ethnicity', y = 'percentage')"
   ]
  },
  {
   "cell_type": "code",
   "execution_count": null,
   "metadata": {},
   "outputs": [],
   "source": [
    "px.histogram(smth2, x = 'Officer-defined ethnicity')"
   ]
  },
  {
   "cell_type": "code",
   "execution_count": null,
   "metadata": {},
   "outputs": [],
   "source": [
    "count_total = smth3.groupby('Officer-defined ethnicity').count()[['Type']]\n",
    "count_total['percentage'] = count_total['Type']/count_total['Type'].sum() * 100\n",
    "count_total_asian = count_total.reset_index().sort_values(by = 'percentage', ascending = False)\n",
    "px.histogram(count_total_asian, x = 'Officer-defined ethnicity', y = 'percentage')"
   ]
  },
  {
   "cell_type": "code",
   "execution_count": null,
   "metadata": {},
   "outputs": [],
   "source": [
    "px.histogram(smth3, x = 'Officer-defined ethnicity')"
   ]
  },
  {
   "attachments": {},
   "cell_type": "markdown",
   "metadata": {},
   "source": [
    "## Locate the neighbourhood/borough"
   ]
  },
  {
   "cell_type": "code",
   "execution_count": null,
   "metadata": {},
   "outputs": [],
   "source": []
  },
  {
   "cell_type": "code",
   "execution_count": null,
   "metadata": {},
   "outputs": [],
   "source": []
  },
  {
   "attachments": {},
   "cell_type": "markdown",
   "metadata": {},
   "source": [
    "## Types per: Gender/Age/Ethnicity/Date"
   ]
  },
  {
   "cell_type": "code",
   "execution_count": null,
   "metadata": {},
   "outputs": [],
   "source": [
    "px.histogram(sas, x = 'Type', color = 'Gender')"
   ]
  },
  {
   "cell_type": "code",
   "execution_count": null,
   "metadata": {},
   "outputs": [],
   "source": [
    "px.histogram(sas, x = 'Type', color = 'Age range')"
   ]
  },
  {
   "cell_type": "code",
   "execution_count": null,
   "metadata": {},
   "outputs": [],
   "source": [
    "px.histogram(sas, x = 'Type', color = 'year')"
   ]
  },
  {
   "cell_type": "code",
   "execution_count": null,
   "metadata": {},
   "outputs": [],
   "source": [
    "skrr = sas.groupby(['Type', 'weekday']).count()[['month']].reset_index().sort_values(by = 'month')"
   ]
  },
  {
   "cell_type": "code",
   "execution_count": null,
   "metadata": {},
   "outputs": [],
   "source": [
    "px.histogram(skrr, x = 'Type', y = 'month',color = 'weekday')"
   ]
  },
  {
   "cell_type": "code",
   "execution_count": null,
   "metadata": {},
   "outputs": [],
   "source": []
  },
  {
   "attachments": {},
   "cell_type": "markdown",
   "metadata": {},
   "source": [
    "## Date per: Age/Ethnicity/Gender"
   ]
  },
  {
   "cell_type": "code",
   "execution_count": null,
   "metadata": {},
   "outputs": [],
   "source": [
    "px.histogram(sas, x = 'weekday', color = 'Gender')"
   ]
  },
  {
   "cell_type": "code",
   "execution_count": null,
   "metadata": {},
   "outputs": [],
   "source": [
    "px.histogram(sas, x = 'weekday', color = 'Age range')"
   ]
  },
  {
   "cell_type": "code",
   "execution_count": null,
   "metadata": {},
   "outputs": [],
   "source": [
    "px.histogram(sas, x = 'weekday', color = 'Officer-defined ethnicity')"
   ]
  },
  {
   "attachments": {},
   "cell_type": "markdown",
   "metadata": {},
   "source": [
    "## Age per Gender"
   ]
  },
  {
   "cell_type": "code",
   "execution_count": null,
   "metadata": {},
   "outputs": [],
   "source": [
    "px.histogram(sas, x = 'Age range', color = 'Gender')"
   ]
  },
  {
   "cell_type": "code",
   "execution_count": null,
   "metadata": {},
   "outputs": [],
   "source": [
    "px.histogram(sas, x = 'Age range', color = 'Officer-defined ethnicity')"
   ]
  },
  {
   "cell_type": "code",
   "execution_count": null,
   "metadata": {},
   "outputs": [],
   "source": []
  },
  {
   "cell_type": "code",
   "execution_count": null,
   "metadata": {},
   "outputs": [],
   "source": []
  },
  {
   "cell_type": "code",
   "execution_count": null,
   "metadata": {},
   "outputs": [],
   "source": []
  },
  {
   "attachments": {},
   "cell_type": "markdown",
   "metadata": {},
   "source": [
    "## Age per Ethnicity"
   ]
  },
  {
   "cell_type": "code",
   "execution_count": null,
   "metadata": {},
   "outputs": [],
   "source": []
  },
  {
   "attachments": {},
   "cell_type": "markdown",
   "metadata": {},
   "source": [
    "## Gender per Ethnicity"
   ]
  },
  {
   "cell_type": "code",
   "execution_count": null,
   "metadata": {},
   "outputs": [],
   "source": [
    "px.histogram(sas, x= 'Gender', color = 'Officer-defined ethnicity')"
   ]
  },
  {
   "attachments": {},
   "cell_type": "markdown",
   "metadata": {},
   "source": [
    "## Self defined ethnicity vs. Officer-defined ethnicity"
   ]
  },
  {
   "attachments": {},
   "cell_type": "markdown",
   "metadata": {},
   "source": [
    "### How good/bad do officers identify ethnicity"
   ]
  },
  {
   "attachments": {},
   "cell_type": "markdown",
   "metadata": {},
   "source": [
    "## Object of Search per Gender/Age/Ethnicity/Outcome/Date/Legislation"
   ]
  },
  {
   "cell_type": "code",
   "execution_count": null,
   "metadata": {},
   "outputs": [],
   "source": [
    "pivot_table = sas[['Object of search', 'Gender']].pivot_table(index = 'Gender', columns = 'Object of search', aggfunc = len, fill_value = -1)\n",
    "fig = px.imshow(pivot_table.values,\n",
    "                        labels=dict(x=\"Object of Search\", y=\"Gender\", color=\"Count\"),\n",
    "                        x=pivot_table.columns,\n",
    "                        y=pivot_table.index,\n",
    "                        color_continuous_scale='viridis')\n",
    "\n",
    "fig.show();"
   ]
  },
  {
   "cell_type": "code",
   "execution_count": null,
   "metadata": {},
   "outputs": [],
   "source": [
    "pivot_table = sas[sas['Gender'] == 'Male'][['Object of search', 'Age range']].pivot_table(index = 'Age range', columns = 'Object of search', aggfunc = len, fill_value = -1)\n",
    "fig = px.imshow(pivot_table.values,\n",
    "                        labels=dict(x=\"Object of Search\", y=\"Age range\", color=\"Count\"),\n",
    "                        x=pivot_table.columns,\n",
    "                        y=pivot_table.index,\n",
    "                        color_continuous_scale='viridis')\n",
    "\n",
    "fig.show();"
   ]
  },
  {
   "cell_type": "code",
   "execution_count": null,
   "metadata": {},
   "outputs": [],
   "source": [
    "pivot_table = sas[sas['Gender'] == 'Female'][['Object of search', 'Age range']].pivot_table(index = 'Age range', columns = 'Object of search', aggfunc = len, fill_value = -1)\n",
    "fig = px.imshow(pivot_table.values,\n",
    "                        labels=dict(x=\"Object of Search\", y=\"Age range\", color=\"Count\"),\n",
    "                        x=pivot_table.columns,\n",
    "                        y=pivot_table.index,\n",
    "                        color_continuous_scale='viridis')\n",
    "\n",
    "fig.show();"
   ]
  },
  {
   "cell_type": "code",
   "execution_count": null,
   "metadata": {},
   "outputs": [],
   "source": [
    "pivot_table = sas[['Object of search', 'Outcome']].pivot_table(index = 'Object of search', columns = 'Outcome', aggfunc = len, fill_value = -1)\n",
    "fig = px.imshow(pivot_table.values,\n",
    "                        labels=dict(x=\"Outcome\", y=\"Object of Search\", color=\"Count\"),\n",
    "                        x=pivot_table.columns,\n",
    "                        y=pivot_table.index,\n",
    "                        color_continuous_scale='viridis')\n",
    "\n",
    "\n",
    "# Manually set the range for x and y axes\n",
    "fig.update_xaxes(tickmode='array', tickvals=list(range(len(pivot_table.columns))), ticktext=pivot_table.columns)\n",
    "fig.update_yaxes(tickmode='array', tickvals=list(range(len(pivot_table.index))), ticktext=pivot_table.index)\n",
    "fig.update_layout(xaxis=dict(tickangle=45))\n",
    "fig.show()"
   ]
  },
  {
   "attachments": {},
   "cell_type": "markdown",
   "metadata": {},
   "source": [
    "## Outcomes per Gender/Age"
   ]
  },
  {
   "cell_type": "code",
   "execution_count": null,
   "metadata": {},
   "outputs": [],
   "source": [
    "px.histogram(sas, x = 'Outcome', color = 'Gender')"
   ]
  },
  {
   "cell_type": "code",
   "execution_count": null,
   "metadata": {},
   "outputs": [],
   "source": [
    "px.histogram(sas, x = 'Outcome', color = 'Age range')"
   ]
  },
  {
   "cell_type": "code",
   "execution_count": null,
   "metadata": {},
   "outputs": [],
   "source": [
    "import pandas as pd"
   ]
  },
  {
   "cell_type": "code",
   "execution_count": null,
   "metadata": {},
   "outputs": [],
   "source": [
    "pas = pd.read_csv('/Users/ansat.omurzakov/Desktop/TUe/Data Challenge 2/data/PAS_borough')"
   ]
  },
  {
   "cell_type": "code",
   "execution_count": null,
   "metadata": {},
   "outputs": [],
   "source": [
    "pas"
   ]
  },
  {
   "cell_type": "code",
   "execution_count": null,
   "metadata": {},
   "outputs": [],
   "source": [
    "pas['Measure'].unique()"
   ]
  },
  {
   "cell_type": "code",
   "execution_count": null,
   "metadata": {},
   "outputs": [],
   "source": [
    "pas[pas['Measure'] == 'Trust MPS']"
   ]
  },
  {
   "cell_type": "code",
   "execution_count": null,
   "metadata": {},
   "outputs": [],
   "source": [
    "pas[(pas['Date'] == '2014-12-31') & (pas['Borough'] == 'Barking and Dagenham')]"
   ]
  },
  {
   "cell_type": "code",
   "execution_count": null,
   "metadata": {},
   "outputs": [],
   "source": [
    "# Create a pivot table\n",
    "pivot_table = pas.pivot_table(index=['Date', 'Borough'], columns='Measure', values='Proportion', fill_value=None)\n",
    "\n",
    "# Reset index to make it columns again\n",
    "pivot_table.reset_index(inplace=True)\n",
    "\n",
    "pivot_table.to_json('/Users/ansat.omurzakov/Desktop/TUe/Data Challenge 2/data/PAS_borough_new.csv', index = False)"
   ]
  },
  {
   "cell_type": "code",
   "execution_count": null,
   "metadata": {},
   "outputs": [],
   "source": []
  }
 ],
 "metadata": {
  "kernelspec": {
   "display_name": "Python 3",
   "language": "python",
   "name": "python3"
  },
  "language_info": {
   "codemirror_mode": {
    "name": "ipython",
    "version": 3
   },
   "file_extension": ".py",
   "mimetype": "text/x-python",
   "name": "python",
   "nbconvert_exporter": "python",
   "pygments_lexer": "ipython3",
   "version": "3.12.0"
  },
  "orig_nbformat": 4
 },
 "nbformat": 4,
 "nbformat_minor": 2
}
